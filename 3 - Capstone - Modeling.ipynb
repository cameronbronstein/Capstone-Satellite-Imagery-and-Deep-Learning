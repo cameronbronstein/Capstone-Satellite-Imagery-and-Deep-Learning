{
 "cells": [
  {
   "cell_type": "markdown",
   "metadata": {},
   "source": [
    "## Check Remote Server Status"
   ]
  },
  {
   "cell_type": "code",
   "execution_count": 1,
   "metadata": {
    "scrolled": true
   },
   "outputs": [
    {
     "name": "stdout",
     "output_type": "stream",
     "text": [
      "[name: \"/device:CPU:0\"\n",
      "device_type: \"CPU\"\n",
      "memory_limit: 268435456\n",
      "locality {\n",
      "}\n",
      "incarnation: 11528795035022813546\n",
      ", name: \"/device:GPU:0\"\n",
      "device_type: \"GPU\"\n",
      "memory_limit: 7441032807\n",
      "locality {\n",
      "  bus_id: 1\n",
      "  links {\n",
      "  }\n",
      "}\n",
      "incarnation: 90069864950761477\n",
      "physical_device_desc: \"device: 0, name: Tesla M60, pci bus id: 0000:00:1e.0, compute capability: 5.2\"\n",
      "]\n"
     ]
    }
   ],
   "source": [
    "from tensorflow.python.client import device_lib\n",
    "print(device_lib.list_local_devices())"
   ]
  },
  {
   "cell_type": "markdown",
   "metadata": {},
   "source": [
    "## Import Notebook Dependendencies"
   ]
  },
  {
   "cell_type": "code",
   "execution_count": 76,
   "metadata": {},
   "outputs": [],
   "source": [
    "import gc\n",
    "from numba import cuda\n",
    "import numpy as np\n",
    "import pandas as pd\n",
    "import tensorflow as tf\n",
    "import os\n",
    "from keras_preprocessing.image import ImageDataGenerator\n",
    "from keras.applications.resnet50 import ResNet50\n",
    "from keras.models import Sequential\n",
    "from keras.layers import Dense, Activation, Flatten, Dropout, BatchNormalization\n",
    "from keras.layers import Conv2D, MaxPooling2D\n",
    "from keras import regularizers, optimizers\n",
    "from keras.callbacks import EarlyStopping, ModelCheckpoint\n",
    "from keras import backend as K\n",
    "\n",
    "from sklearn.model_selection import train_test_split, KFold\n",
    "from sklearn.metrics import fbeta_score\n",
    "\n",
    "import matplotlib.pyplot as plt\n",
    "%matplotlib inline"
   ]
  },
  {
   "cell_type": "markdown",
   "metadata": {},
   "source": [
    "## Read in the data"
   ]
  },
  {
   "cell_type": "markdown",
   "metadata": {},
   "source": [
    "### Training Data"
   ]
  },
  {
   "cell_type": "code",
   "execution_count": 90,
   "metadata": {
    "scrolled": false
   },
   "outputs": [
    {
     "data": {
      "text/html": [
       "<div>\n",
       "<style scoped>\n",
       "    .dataframe tbody tr th:only-of-type {\n",
       "        vertical-align: middle;\n",
       "    }\n",
       "\n",
       "    .dataframe tbody tr th {\n",
       "        vertical-align: top;\n",
       "    }\n",
       "\n",
       "    .dataframe thead th {\n",
       "        text-align: right;\n",
       "    }\n",
       "</style>\n",
       "<table border=\"1\" class=\"dataframe\">\n",
       "  <thead>\n",
       "    <tr style=\"text-align: right;\">\n",
       "      <th></th>\n",
       "      <th>image_name</th>\n",
       "      <th>labels</th>\n",
       "      <th>haze</th>\n",
       "      <th>primary</th>\n",
       "      <th>agriculture</th>\n",
       "      <th>clear</th>\n",
       "      <th>water</th>\n",
       "      <th>habitation</th>\n",
       "      <th>road</th>\n",
       "      <th>cultivation</th>\n",
       "      <th>slash_burn</th>\n",
       "      <th>cloudy</th>\n",
       "      <th>partly_cloudy</th>\n",
       "      <th>conventional_mine</th>\n",
       "      <th>bare_ground</th>\n",
       "      <th>artisinal_mine</th>\n",
       "      <th>blooming</th>\n",
       "      <th>selective_logging</th>\n",
       "      <th>blow_down</th>\n",
       "      <th>file_path</th>\n",
       "    </tr>\n",
       "  </thead>\n",
       "  <tbody>\n",
       "    <tr>\n",
       "      <th>0</th>\n",
       "      <td>train_0</td>\n",
       "      <td>haze primary</td>\n",
       "      <td>1</td>\n",
       "      <td>1</td>\n",
       "      <td>0</td>\n",
       "      <td>0</td>\n",
       "      <td>0</td>\n",
       "      <td>0</td>\n",
       "      <td>0</td>\n",
       "      <td>0</td>\n",
       "      <td>0</td>\n",
       "      <td>0</td>\n",
       "      <td>0</td>\n",
       "      <td>0</td>\n",
       "      <td>0</td>\n",
       "      <td>0</td>\n",
       "      <td>0</td>\n",
       "      <td>0</td>\n",
       "      <td>0</td>\n",
       "      <td>./train_data/train_0.tif</td>\n",
       "    </tr>\n",
       "    <tr>\n",
       "      <th>1</th>\n",
       "      <td>train_1</td>\n",
       "      <td>agriculture clear primary water</td>\n",
       "      <td>0</td>\n",
       "      <td>1</td>\n",
       "      <td>1</td>\n",
       "      <td>1</td>\n",
       "      <td>1</td>\n",
       "      <td>0</td>\n",
       "      <td>0</td>\n",
       "      <td>0</td>\n",
       "      <td>0</td>\n",
       "      <td>0</td>\n",
       "      <td>0</td>\n",
       "      <td>0</td>\n",
       "      <td>0</td>\n",
       "      <td>0</td>\n",
       "      <td>0</td>\n",
       "      <td>0</td>\n",
       "      <td>0</td>\n",
       "      <td>./train_data/train_1.tif</td>\n",
       "    </tr>\n",
       "    <tr>\n",
       "      <th>2</th>\n",
       "      <td>train_2</td>\n",
       "      <td>clear primary</td>\n",
       "      <td>0</td>\n",
       "      <td>1</td>\n",
       "      <td>0</td>\n",
       "      <td>1</td>\n",
       "      <td>0</td>\n",
       "      <td>0</td>\n",
       "      <td>0</td>\n",
       "      <td>0</td>\n",
       "      <td>0</td>\n",
       "      <td>0</td>\n",
       "      <td>0</td>\n",
       "      <td>0</td>\n",
       "      <td>0</td>\n",
       "      <td>0</td>\n",
       "      <td>0</td>\n",
       "      <td>0</td>\n",
       "      <td>0</td>\n",
       "      <td>./train_data/train_2.tif</td>\n",
       "    </tr>\n",
       "    <tr>\n",
       "      <th>3</th>\n",
       "      <td>train_3</td>\n",
       "      <td>clear primary</td>\n",
       "      <td>0</td>\n",
       "      <td>1</td>\n",
       "      <td>0</td>\n",
       "      <td>1</td>\n",
       "      <td>0</td>\n",
       "      <td>0</td>\n",
       "      <td>0</td>\n",
       "      <td>0</td>\n",
       "      <td>0</td>\n",
       "      <td>0</td>\n",
       "      <td>0</td>\n",
       "      <td>0</td>\n",
       "      <td>0</td>\n",
       "      <td>0</td>\n",
       "      <td>0</td>\n",
       "      <td>0</td>\n",
       "      <td>0</td>\n",
       "      <td>./train_data/train_3.tif</td>\n",
       "    </tr>\n",
       "    <tr>\n",
       "      <th>4</th>\n",
       "      <td>train_4</td>\n",
       "      <td>agriculture clear habitation primary road</td>\n",
       "      <td>0</td>\n",
       "      <td>1</td>\n",
       "      <td>1</td>\n",
       "      <td>1</td>\n",
       "      <td>0</td>\n",
       "      <td>1</td>\n",
       "      <td>1</td>\n",
       "      <td>0</td>\n",
       "      <td>0</td>\n",
       "      <td>0</td>\n",
       "      <td>0</td>\n",
       "      <td>0</td>\n",
       "      <td>0</td>\n",
       "      <td>0</td>\n",
       "      <td>0</td>\n",
       "      <td>0</td>\n",
       "      <td>0</td>\n",
       "      <td>./train_data/train_4.tif</td>\n",
       "    </tr>\n",
       "  </tbody>\n",
       "</table>\n",
       "</div>"
      ],
      "text/plain": [
       "  image_name                                     labels  haze  primary  \\\n",
       "0    train_0                               haze primary     1        1   \n",
       "1    train_1            agriculture clear primary water     0        1   \n",
       "2    train_2                              clear primary     0        1   \n",
       "3    train_3                              clear primary     0        1   \n",
       "4    train_4  agriculture clear habitation primary road     0        1   \n",
       "\n",
       "   agriculture  clear  water  habitation  road  cultivation  slash_burn  \\\n",
       "0            0      0      0           0     0            0           0   \n",
       "1            1      1      1           0     0            0           0   \n",
       "2            0      1      0           0     0            0           0   \n",
       "3            0      1      0           0     0            0           0   \n",
       "4            1      1      0           1     1            0           0   \n",
       "\n",
       "   cloudy  partly_cloudy  conventional_mine  bare_ground  artisinal_mine  \\\n",
       "0       0              0                  0            0               0   \n",
       "1       0              0                  0            0               0   \n",
       "2       0              0                  0            0               0   \n",
       "3       0              0                  0            0               0   \n",
       "4       0              0                  0            0               0   \n",
       "\n",
       "   blooming  selective_logging  blow_down                 file_path  \n",
       "0         0                  0          0  ./train_data/train_0.tif  \n",
       "1         0                  0          0  ./train_data/train_1.tif  \n",
       "2         0                  0          0  ./train_data/train_2.tif  \n",
       "3         0                  0          0  ./train_data/train_3.tif  \n",
       "4         0                  0          0  ./train_data/train_4.tif  "
      ]
     },
     "execution_count": 90,
     "metadata": {},
     "output_type": "execute_result"
    }
   ],
   "source": [
    "training = pd.read_csv(\"./kaggle_csv_files/files_and_labels_dataframe.csv\")\n",
    "training['file_path'] = \"./train_data/\" + training['image_name'] + \".tif\"\n",
    "training.head()"
   ]
  },
  {
   "cell_type": "code",
   "execution_count": 4,
   "metadata": {
    "scrolled": true
   },
   "outputs": [],
   "source": [
    "label_columns = ['haze', 'primary', 'agriculture', 'clear', 'water', 'habitation',\n",
    "       'road', 'cultivation', 'slash_burn', 'cloudy', 'partly_cloudy',\n",
    "       'conventional_mine', 'bare_ground', 'artisinal_mine', 'blooming',\n",
    "       'selective_logging', 'blow_down']"
   ]
  },
  {
   "cell_type": "markdown",
   "metadata": {},
   "source": [
    "### Test data"
   ]
  },
  {
   "cell_type": "code",
   "execution_count": 5,
   "metadata": {
    "scrolled": true
   },
   "outputs": [
    {
     "data": {
      "text/html": [
       "<div>\n",
       "<style scoped>\n",
       "    .dataframe tbody tr th:only-of-type {\n",
       "        vertical-align: middle;\n",
       "    }\n",
       "\n",
       "    .dataframe tbody tr th {\n",
       "        vertical-align: top;\n",
       "    }\n",
       "\n",
       "    .dataframe thead th {\n",
       "        text-align: right;\n",
       "    }\n",
       "</style>\n",
       "<table border=\"1\" class=\"dataframe\">\n",
       "  <thead>\n",
       "    <tr style=\"text-align: right;\">\n",
       "      <th></th>\n",
       "      <th>image_name</th>\n",
       "      <th>tags</th>\n",
       "    </tr>\n",
       "  </thead>\n",
       "  <tbody>\n",
       "    <tr>\n",
       "      <th>0</th>\n",
       "      <td>test_0</td>\n",
       "      <td>primary clear agriculture road water</td>\n",
       "    </tr>\n",
       "    <tr>\n",
       "      <th>1</th>\n",
       "      <td>test_1</td>\n",
       "      <td>primary clear agriculture road water</td>\n",
       "    </tr>\n",
       "    <tr>\n",
       "      <th>2</th>\n",
       "      <td>test_2</td>\n",
       "      <td>primary clear agriculture road water</td>\n",
       "    </tr>\n",
       "    <tr>\n",
       "      <th>3</th>\n",
       "      <td>test_3</td>\n",
       "      <td>primary clear agriculture road water</td>\n",
       "    </tr>\n",
       "    <tr>\n",
       "      <th>4</th>\n",
       "      <td>test_4</td>\n",
       "      <td>primary clear agriculture road water</td>\n",
       "    </tr>\n",
       "  </tbody>\n",
       "</table>\n",
       "</div>"
      ],
      "text/plain": [
       "  image_name                                  tags\n",
       "0     test_0  primary clear agriculture road water\n",
       "1     test_1  primary clear agriculture road water\n",
       "2     test_2  primary clear agriculture road water\n",
       "3     test_3  primary clear agriculture road water\n",
       "4     test_4  primary clear agriculture road water"
      ]
     },
     "execution_count": 5,
     "metadata": {},
     "output_type": "execute_result"
    }
   ],
   "source": [
    "# As a reminder, our submission data will have this format.\n",
    "test_data = pd.read_csv(\"./kaggle_csv_files/sample_submission_v2.csv\")\n",
    "test_data.head()"
   ]
  },
  {
   "cell_type": "code",
   "execution_count": 6,
   "metadata": {
    "scrolled": false
   },
   "outputs": [],
   "source": [
    "# We can drop the \"tags\" column for now.\n",
    "test_data.drop(columns = ['tags'], inplace = True)\n",
    "test_data['file_path'] = test_data['image_name'].map(\\\n",
    "                    lambda x: (\"./fixed/\" + x + \".tif\") if \"file_\" in x \\\n",
    "                    else (\"./test_data/\" + x + \".tif\"))"
   ]
  },
  {
   "cell_type": "code",
   "execution_count": 7,
   "metadata": {
    "scrolled": true
   },
   "outputs": [
    {
     "data": {
      "text/html": [
       "<div>\n",
       "<style scoped>\n",
       "    .dataframe tbody tr th:only-of-type {\n",
       "        vertical-align: middle;\n",
       "    }\n",
       "\n",
       "    .dataframe tbody tr th {\n",
       "        vertical-align: top;\n",
       "    }\n",
       "\n",
       "    .dataframe thead th {\n",
       "        text-align: right;\n",
       "    }\n",
       "</style>\n",
       "<table border=\"1\" class=\"dataframe\">\n",
       "  <thead>\n",
       "    <tr style=\"text-align: right;\">\n",
       "      <th></th>\n",
       "      <th>image_name</th>\n",
       "      <th>file_path</th>\n",
       "    </tr>\n",
       "  </thead>\n",
       "  <tbody>\n",
       "    <tr>\n",
       "      <th>0</th>\n",
       "      <td>test_0</td>\n",
       "      <td>./test_data/test_0.tif</td>\n",
       "    </tr>\n",
       "    <tr>\n",
       "      <th>1</th>\n",
       "      <td>test_1</td>\n",
       "      <td>./test_data/test_1.tif</td>\n",
       "    </tr>\n",
       "    <tr>\n",
       "      <th>2</th>\n",
       "      <td>test_2</td>\n",
       "      <td>./test_data/test_2.tif</td>\n",
       "    </tr>\n",
       "    <tr>\n",
       "      <th>3</th>\n",
       "      <td>test_3</td>\n",
       "      <td>./test_data/test_3.tif</td>\n",
       "    </tr>\n",
       "    <tr>\n",
       "      <th>4</th>\n",
       "      <td>test_4</td>\n",
       "      <td>./test_data/test_4.tif</td>\n",
       "    </tr>\n",
       "  </tbody>\n",
       "</table>\n",
       "</div>"
      ],
      "text/plain": [
       "  image_name               file_path\n",
       "0     test_0  ./test_data/test_0.tif\n",
       "1     test_1  ./test_data/test_1.tif\n",
       "2     test_2  ./test_data/test_2.tif\n",
       "3     test_3  ./test_data/test_3.tif\n",
       "4     test_4  ./test_data/test_4.tif"
      ]
     },
     "execution_count": 7,
     "metadata": {},
     "output_type": "execute_result"
    }
   ],
   "source": [
    "# Looks good!\n",
    "test_data.head()"
   ]
  },
  {
   "cell_type": "code",
   "execution_count": 8,
   "metadata": {
    "scrolled": false
   },
   "outputs": [
    {
     "data": {
      "text/html": [
       "<div>\n",
       "<style scoped>\n",
       "    .dataframe tbody tr th:only-of-type {\n",
       "        vertical-align: middle;\n",
       "    }\n",
       "\n",
       "    .dataframe tbody tr th {\n",
       "        vertical-align: top;\n",
       "    }\n",
       "\n",
       "    .dataframe thead th {\n",
       "        text-align: right;\n",
       "    }\n",
       "</style>\n",
       "<table border=\"1\" class=\"dataframe\">\n",
       "  <thead>\n",
       "    <tr style=\"text-align: right;\">\n",
       "      <th></th>\n",
       "      <th>image_name</th>\n",
       "      <th>file_path</th>\n",
       "    </tr>\n",
       "  </thead>\n",
       "  <tbody>\n",
       "    <tr>\n",
       "      <th>61186</th>\n",
       "      <td>file_9995</td>\n",
       "      <td>./fixed/file_9995.tif</td>\n",
       "    </tr>\n",
       "    <tr>\n",
       "      <th>61187</th>\n",
       "      <td>file_9996</td>\n",
       "      <td>./fixed/file_9996.tif</td>\n",
       "    </tr>\n",
       "    <tr>\n",
       "      <th>61188</th>\n",
       "      <td>file_9997</td>\n",
       "      <td>./fixed/file_9997.tif</td>\n",
       "    </tr>\n",
       "    <tr>\n",
       "      <th>61189</th>\n",
       "      <td>file_9998</td>\n",
       "      <td>./fixed/file_9998.tif</td>\n",
       "    </tr>\n",
       "    <tr>\n",
       "      <th>61190</th>\n",
       "      <td>file_9999</td>\n",
       "      <td>./fixed/file_9999.tif</td>\n",
       "    </tr>\n",
       "  </tbody>\n",
       "</table>\n",
       "</div>"
      ],
      "text/plain": [
       "      image_name              file_path\n",
       "61186  file_9995  ./fixed/file_9995.tif\n",
       "61187  file_9996  ./fixed/file_9996.tif\n",
       "61188  file_9997  ./fixed/file_9997.tif\n",
       "61189  file_9998  ./fixed/file_9998.tif\n",
       "61190  file_9999  ./fixed/file_9999.tif"
      ]
     },
     "execution_count": 8,
     "metadata": {},
     "output_type": "execute_result"
    }
   ],
   "source": [
    "test_data.tail()"
   ]
  },
  {
   "cell_type": "markdown",
   "metadata": {},
   "source": [
    "### Predictions to Label Tags"
   ]
  },
  {
   "cell_type": "code",
   "execution_count": 38,
   "metadata": {},
   "outputs": [],
   "source": [
    "# This function converts our model predictions directly to the format suitable for submission.\n",
    "def predictions_to_tags(predictions, label_columns, threshold_list):\n",
    "    \n",
    "    # convert predictions to binary\n",
    "    threshold_map = {column: value for column, value in enumerate(threshold_list)}\n",
    "    \n",
    "    binary_preds_list = []\n",
    "    for pred in predictions:\n",
    "        binary_pred = [1 if value > threshold_map[i] else 0 for i,value in enumerate(pred)]\n",
    "        binary_preds_list.append(binary_pred)\n",
    "\n",
    "    labels_map = {index: column for index, column in enumerate(label_columns)}\n",
    "    \n",
    "    # convert binary to tag\n",
    "    prediction_labels_list = []\n",
    "    for image_pred in binary_preds_list:\n",
    "        tags = [labels_map[index] for index, value in enumerate(image_pred) if value == 1]\n",
    "        prediction_labels_list.append(tags)\n",
    "\n",
    "    return [' '.join(prediction) for prediction in prediction_labels_list] "
   ]
  },
  {
   "cell_type": "code",
   "execution_count": 9,
   "metadata": {},
   "outputs": [],
   "source": [
    "# # This function converts our model predictions directly to the format suitable for submission.\n",
    "\n",
    "# # could potentially do threshold list but for now...\n",
    "\n",
    "# def predictions_to_tags(predictions, label_columns, threshold):\n",
    "#     binary_predictions = (predictions > threshold).astype(int) \n",
    "    \n",
    "# #     predictions_label = []\n",
    "# #     for prediction in pred_Y:\n",
    "# #     labels = [y_map[i] for i,value in enumerate(prediction) if value > thresholds[i]]\n",
    "# #     predictions_label.append(labels)\n",
    "    \n",
    "#     prediction_labels_list = []\n",
    "#     labels_map = {index: column for index, column in enumerate(label_columns)}\n",
    "    \n",
    "#     for image_pred in binary_predictions:\n",
    "#         tags = [labels_map[index] for index, value in enumerate(image_pred) if value == 1]\n",
    "#         prediction_labels_list.append(tags)\n",
    "#     return [' '.join(prediction) for prediction in prediction_labels_list]"
   ]
  },
  {
   "cell_type": "markdown",
   "metadata": {},
   "source": [
    "### F2 Score\n",
    "\n",
    "**This is the evaluation metric used in the competition**"
   ]
  },
  {
   "cell_type": "code",
   "execution_count": 10,
   "metadata": {},
   "outputs": [],
   "source": [
    "# need to separately define own manual fbeta score such that arrays can be passed as tensor in modeling.\n",
    "# Then, we can use this as a metric in the fit_generator.\n",
    "def fbeta_score_K(y_true, y_pred):\n",
    "    beta_squared = 4\n",
    "\n",
    "    tp = K.sum(y_true * y_pred) + K.epsilon()\n",
    "    fp = K.sum(y_pred) - tp\n",
    "    fn = K.sum(y_true) - tp\n",
    "\n",
    "    precision = tp / (tp + fp)\n",
    "    recall = tp / (tp + fn)\n",
    "\n",
    "    result = (beta_squared + 1) * (precision * recall) / (beta_squared * precision + recall + K.epsilon())\n",
    "\n",
    "    return result"
   ]
  },
  {
   "cell_type": "markdown",
   "metadata": {},
   "source": [
    "### Image Data Generator and Image Augmentation\n",
    "\n",
    "Code derived from this [medium post.](https://medium.com/@vijayabhaskar96/multi-label-image-classification-tutorial-with-keras-imagedatagenerator-cd541f8eaf24)"
   ]
  },
  {
   "cell_type": "code",
   "execution_count": 11,
   "metadata": {},
   "outputs": [],
   "source": [
    "# train generator\n",
    "def train_generator(batch_size,\n",
    "                    dataframe,\n",
    "                    target_size,\n",
    "                    x_col = 'file_path', \n",
    "                    labels = label_columns):\n",
    "\n",
    "    \n",
    "    datagen = ImageDataGenerator(rescale = 1./255.,\n",
    "                                 horizontal_flip = True,\n",
    "                                 vertical_flip = True, \n",
    "                                 rotation_range = 45,\n",
    "                                 fill_mode = \"nearest\",\n",
    "                                 dtype = \"float16\")\n",
    "    \n",
    "    train_generator = datagen.flow_from_dataframe(\n",
    "                                dataframe = dataframe,\n",
    "                                directory = None,\n",
    "                                x_col = x_col,\n",
    "                                y_col = labels,\n",
    "                                batch_size = batch_size,\n",
    "                                shuffle = True,\n",
    "                                class_mode = \"other\",\n",
    "                                target_size = target_size,\n",
    "                                seed = 42)\n",
    "    return train_generator\n",
    "\n",
    "# validation generator\n",
    "def valid_generator(batch_size,\n",
    "                    dataframe,\n",
    "                    target_size,\n",
    "                    x_col = 'file_path', \n",
    "                    labels = label_columns):\n",
    "    \n",
    "    valid_datagen = ImageDataGenerator(rescale = 1./255.,\n",
    "                                 horizontal_flip = True,\n",
    "                                 vertical_flip = True, \n",
    "                                 rotation_range = 45,\n",
    "                                 fill_mode = \"nearest\",\n",
    "                                 dtype = \"float16\")\n",
    "    \n",
    "    valid_generator = valid_datagen.flow_from_dataframe(\n",
    "                                    dataframe = dataframe,\n",
    "                                    directory = None,\n",
    "                                    x_col = x_col,\n",
    "                                    y_col = labels,\n",
    "                                    batch_size = batch_size,\n",
    "                                    shuffle = False,\n",
    "                                    class_mode = \"other\",\n",
    "                                    target_size = target_size,\n",
    "                                    seed = 42)\n",
    "    return valid_generator\n",
    "    \n",
    "# test generator\n",
    "def test_generator(batch_size, test_data, target_size, x_col = 'file_path'):\n",
    "    test_datagen = ImageDataGenerator(rescale = 1./255.,\n",
    "                                      dtype = 'float16')\n",
    "\n",
    "    test_generator = test_datagen.flow_from_dataframe(\n",
    "                                    dataframe = test_data,\n",
    "                                    directory = None,\n",
    "                                    x_col = x_col,\n",
    "                                    batch_size = batch_size,\n",
    "                                    shuffle = False,\n",
    "                                    class_mode = None,\n",
    "                                    target_size = target_size,\n",
    "                                    seed = 42)\n",
    "    return test_generator"
   ]
  },
  {
   "cell_type": "markdown",
   "metadata": {},
   "source": [
    "### Models"
   ]
  },
  {
   "cell_type": "code",
   "execution_count": 73,
   "metadata": {},
   "outputs": [],
   "source": [
    "# simple Convolutional Neural Network\n",
    "def simple_cnn(input_shape = (256, 256, 3), \n",
    "               weight_path = None):\n",
    "    \n",
    "    model = Sequential()\n",
    "\n",
    "    model.add(BatchNormalization(input_shape = input_shape))\n",
    "    model.add(Conv2D(32, kernel_size=(3, 3),\n",
    "                     activation='relu',\n",
    "                     input_shape = input_shape))\n",
    "\n",
    "    model.add(Conv2D(64, (3, 3), activation='relu'))\n",
    "    model.add(MaxPooling2D(pool_size=(2, 2)))\n",
    "    model.add(Dropout(0.5))\n",
    "    model.add(Flatten())\n",
    "    model.add(Dense(128, activation='relu'))\n",
    "    model.add(Dropout(0.5))\n",
    "    model.add(Dense(17, activation='sigmoid'))\n",
    "    \n",
    "    if(weight_path!=None):\n",
    "        if os.path.isfile(weight_path):\n",
    "            model.load_weights(weight_path)\n",
    "    \n",
    "    return model"
   ]
  },
  {
   "cell_type": "code",
   "execution_count": 13,
   "metadata": {},
   "outputs": [],
   "source": [
    "# Big convolutional Neural Network\n",
    "def bigger_cnn(input_shape = (256, 256, 3), weights = None):\n",
    "    model = Sequential()\n",
    "    model.add(BatchNormalization(input_shape = input_shape))\n",
    "\n",
    "    model.add(Conv2D(32, kernel_size=(3, 3), padding='same', activation='relu'))\n",
    "    model.add(Conv2D(32, (3, 3), activation='relu'))\n",
    "    model.add(MaxPooling2D(pool_size=(2, 2)))\n",
    "    model.add(Dropout(0.25))\n",
    "\n",
    "    model.add(Conv2D(64, kernel_size=(3, 3),padding='same', activation='relu'))\n",
    "    model.add(Conv2D(64, (3, 3), activation='relu'))\n",
    "    model.add(MaxPooling2D(pool_size=(2, 2)))\n",
    "    model.add(Dropout(0.25))\n",
    "\n",
    "    model.add(Conv2D(128, kernel_size=(3, 3),padding='same', activation='relu'))\n",
    "    model.add(Conv2D(128, (3, 3), activation='relu'))\n",
    "    model.add(MaxPooling2D(pool_size=(2, 2)))\n",
    "    model.add(Dropout(0.25))\n",
    "\n",
    "    model.add(Conv2D(256, kernel_size=(3, 3),padding='same', activation='relu'))\n",
    "    model.add(Conv2D(256, (3, 3), activation='relu'))\n",
    "    model.add(MaxPooling2D(pool_size=(2, 2)))\n",
    "    model.add(Dropout(0.25))\n",
    "\n",
    "    model.add(Flatten())\n",
    "    model.add(Dense(512, activation='relu'))\n",
    "    model.add(BatchNormalization())\n",
    "    model.add(Dropout(0.5))\n",
    "    model.add(Dense(17, activation='sigmoid'))\n",
    "    \n",
    "    if(weight_path!=None):\n",
    "        if os.path.isfile(weight_path):\n",
    "            model.load_weights(weight_path)\n",
    "    \n",
    "    return model"
   ]
  },
  {
   "cell_type": "code",
   "execution_count": 14,
   "metadata": {},
   "outputs": [],
   "source": [
    "# Residual Network - 50\n",
    "def resnet50(input_shape = (256, 256, 3), weights = None):\n",
    "    from keras.model.resnet50 import ResNet50\n",
    "    base_resnet = ResNet50(include_top = False, \n",
    "                           weights = 'imagenet',  \n",
    "                           pooling = None, \n",
    "                           classes = 17)\n",
    "\n",
    "    model = Sequential()\n",
    "    model.add(BatchNormalization(input_shape = input_shape))\n",
    "    model.add(base_resnet)\n",
    "    model.add(Flatten())\n",
    "    model.add(Dense(17, activation='sigmoid'))\n",
    "   \n",
    "    if(weight_path!=None):\n",
    "        if os.path.isfile(weight_path):\n",
    "            model.load_weights(weight_path)\n",
    "    return model"
   ]
  },
  {
   "cell_type": "markdown",
   "metadata": {},
   "source": [
    "## 3 - Fold Cross Validation: \n",
    "\n",
    "**I could not get this function to run on multiple KFolds due to Resource Exhaust Error on my remote server.**"
   ]
  },
  {
   "cell_type": "code",
   "execution_count": 15,
   "metadata": {},
   "outputs": [],
   "source": [
    "def KFold_Train(data, model, num_epochs, labels = label_columns, \n",
    "                file_path = 'file_path', n_splits = 3, batch_size = 256):\n",
    "    \n",
    "    X = data[file_path]\n",
    "    y = data[labels]\n",
    "    \n",
    "    history_list = []\n",
    "    \n",
    "    kf = KFold(n_splits = n_splits, shuffle = False, random_state = 42)\n",
    "    folds = kf.split(X = X, y = y)\n",
    "\n",
    "    num_fold = 0\n",
    "    for train_index, val_index in folds:\n",
    "        \n",
    "        model = model\n",
    "        input_shape = model.input_shape[1:3]\n",
    "\n",
    "        X_train = X.iloc[train_index]\n",
    "        Y_train = y.iloc[train_index]\n",
    "        X_val = X.iloc[val_index]\n",
    "        Y_val  = y.iloc[val_index]\n",
    "\n",
    "        num_fold += 1\n",
    "        print('Starting KFold number {} of {}'.format(num_fold, n_splits))\n",
    "\n",
    "        print('Split train: ', len(X_train), len(Y_train))    \n",
    "        train_gen = train_generator(dataframe = data.iloc[train_index], target_size = input_shape,\n",
    "                                    batch_size = batch_size, x_col= file_path, labels = labels)\n",
    "\n",
    "        print('Split valid: ', len(X_val), len(Y_val))\n",
    "        val_gen = valid_generator(dataframe = data.iloc[val_index], target_size = input_shape,\n",
    "                                   batch_size = 2 * batch_size, x_col= file_path, labels = labels)\n",
    "    \n",
    "        model.compile( optimizer = \"adam\",\n",
    "              loss='binary_crossentropy',\n",
    "              metrics=[\"accuracy\", fbeta_score_K])\n",
    "  \n",
    "        callbacks = [\n",
    "                EarlyStopping(monitor='val_loss', patience=2, verbose=0),\n",
    "                ModelCheckpoint(\"./saved_val_models/{}_fold_{}.hdf5\".format(str(model), str(num_fold)), \n",
    "                                monitor='val_loss', save_best_only=True, verbose=0)]\n",
    "        \n",
    "        history = model.fit_generator(train_gen, \n",
    "                            steps_per_epoch = (train_gen.n//train_gen.batch_size + 1),\n",
    "                            validation_data = val_gen,\n",
    "                            validation_steps = (val_gen.n//val_gen.batch_size + 1),\n",
    "                            epochs = num_epochs,\n",
    "                            callbacks = callbacks,\n",
    "                            use_multiprocessing = True,\n",
    "                            verbose = 1)\n",
    "        \n",
    "        history_list.append(history)\n",
    "        \n",
    "        \n",
    "        validation_pred = model.predict_generator(val_gen, \n",
    "                                                  steps = (val_gen.n//val_gen.batch_size + 1),\n",
    "                                                  verbose = 1)\n",
    "\n",
    "        np.save(\"./kfold_val_preds/{}_val_preds_fold_{}\".format(str(model), str(num_fold)),\n",
    "                arr = validation_pred)\n",
    "        \n",
    "        print(\"Validation F-Score: \", fbeta_score(Y_val, y_pred = (np.array(validation_pred) > 0.2), \n",
    "                          beta=2, average='samples'))\n",
    "        \n",
    "                \n",
    "    return history_list"
   ]
  },
  {
   "cell_type": "markdown",
   "metadata": {},
   "source": [
    "### Simple CNN Cross Validation"
   ]
  },
  {
   "cell_type": "code",
   "execution_count": 127,
   "metadata": {
    "scrolled": true
   },
   "outputs": [],
   "source": [
    "# simple_cnn_kfold = KFold_Train(data = training,\n",
    "#                                model = simple_cnn(input_shape = (64, 64, 3)), \n",
    "#                                num_epochs = 1, \n",
    "#                                n_splits = 3,\n",
    "#                                batch_size = 16)"
   ]
  },
  {
   "cell_type": "markdown",
   "metadata": {},
   "source": [
    "# Train - Val Split Model Run"
   ]
  },
  {
   "cell_type": "code",
   "execution_count": 16,
   "metadata": {},
   "outputs": [],
   "source": [
    "def run_model(data, model, num_epochs, labels = label_columns, \n",
    "              file_path = 'file_path', batch_size = 128, test_data = test_data):\n",
    "  \n",
    "    X_train, X_val = train_test_split(data, random_state = 42)\n",
    "    Y_val = X_val[labels]\n",
    "\n",
    "    model = model\n",
    "    input_shape = model.input_shape[1:3]\n",
    "\n",
    "    print('Split train: ', len(X_train))    \n",
    "    train_gen = train_generator(dataframe = X_train, target_size = input_shape,\n",
    "                                batch_size = batch_size, x_col= file_path, labels = labels)\n",
    "\n",
    "    print('Split valid: ', len(X_val))\n",
    "    val_gen = valid_generator(dataframe = X_val, target_size = input_shape,\n",
    "                               batch_size = batch_size * 2, x_col= file_path, labels = labels)\n",
    "\n",
    "    model.compile(optimizer = \"adam\",\n",
    "                  loss='binary_crossentropy',\n",
    "                  metrics=[\"accuracy\", fbeta_score_K])\n",
    "\n",
    "    callbacks = [\n",
    "                EarlyStopping(monitor='val_loss', patience=2, verbose=0),\n",
    "                ModelCheckpoint(\"./saved_val_models/{}.hdf5\".format(str(model)), \n",
    "                                monitor='val_loss', save_best_only=False, verbose=0)]\n",
    "    \n",
    "    history = model.fit_generator(train_gen, \n",
    "                        steps_per_epoch = (train_gen.n//train_gen.batch_size + 1),\n",
    "                        validation_data = val_gen,\n",
    "                        validation_steps = (val_gen.n//val_gen.batch_size + 1),\n",
    "                        callbacks = callbacks,\n",
    "                        epochs = num_epochs,\n",
    "                        use_multiprocessing = True,\n",
    "                        verbose = 1)        \n",
    "\n",
    "    validation_pred = model.predict_generator(val_gen, \n",
    "                                              steps = (val_gen.n//val_gen.batch_size + 1),\n",
    "                                              verbose = 1)\n",
    "    \n",
    "    np.save(\"./run_val_preds/{}.validation_pred\".format(str(model)), arr = validation_pred)\n",
    "    np.save(\"./run_val_true/{}.y_val\".format(str(model)), arr = Y_val)\n",
    "    \n",
    "    print(\"Validation F-Score: \", fbeta_score(Y_val, y_pred = (np.array(validation_pred) > 0.2), \n",
    "                          beta=2, average='samples'))\n",
    "    \n",
    "    print(\"Loading the test data...\")\n",
    "    test_gen = test_generator(batch_size = batch_size * 2, \n",
    "                              test_data = test_data,\n",
    "                              target_size = input_shape)\n",
    "    \n",
    "    test_predictions = model.predict_generator(test_gen, \n",
    "                                               steps = (test_gen.n // test_gen.batch_size + 1),\n",
    "                                               verbose = 1)\n",
    "    \n",
    "    print(\"Saving test predictions...\")\n",
    "    np.save(\"./test_raw_preds/{}_pre_threshold.npy\".format(str(model)), arr = test_predictions)\n",
    "    print(\"Saved!\")\n",
    "    \n",
    "    return model, history"
   ]
  },
  {
   "cell_type": "markdown",
   "metadata": {},
   "source": [
    "## Running Simple CNN without Cross Validation"
   ]
  },
  {
   "cell_type": "code",
   "execution_count": 17,
   "metadata": {
    "scrolled": true
   },
   "outputs": [
    {
     "name": "stdout",
     "output_type": "stream",
     "text": [
      "Split train:  30359\n",
      "Found 30359 images.\n",
      "Split valid:  10120\n",
      "Found 10120 images.\n",
      "Epoch 1/20\n",
      "949/949 [==============================] - 418s 440ms/step - loss: 0.2540 - acc: 0.9048 - fbeta_score_K: 0.6020 - val_loss: 0.1953 - val_acc: 0.9208 - val_fbeta_score_K: 0.6437\n",
      "Epoch 2/20\n",
      "949/949 [==============================] - 247s 260ms/step - loss: 0.2124 - acc: 0.9145 - fbeta_score_K: 0.6311 - val_loss: 0.1944 - val_acc: 0.9195 - val_fbeta_score_K: 0.6344\n",
      "Epoch 3/20\n",
      "949/949 [==============================] - 246s 259ms/step - loss: 0.2045 - acc: 0.9166 - fbeta_score_K: 0.6410 - val_loss: 0.1893 - val_acc: 0.9234 - val_fbeta_score_K: 0.6700\n",
      "Epoch 4/20\n",
      "949/949 [==============================] - 247s 260ms/step - loss: 0.2011 - acc: 0.9184 - fbeta_score_K: 0.6465 - val_loss: 0.1874 - val_acc: 0.9253 - val_fbeta_score_K: 0.6740\n",
      "Epoch 5/20\n",
      "949/949 [==============================] - 247s 260ms/step - loss: 0.1964 - acc: 0.9208 - fbeta_score_K: 0.6547 - val_loss: 0.1792 - val_acc: 0.9266 - val_fbeta_score_K: 0.6822\n",
      "Epoch 6/20\n",
      "949/949 [==============================] - 247s 260ms/step - loss: 0.1945 - acc: 0.9215 - fbeta_score_K: 0.6582 - val_loss: 0.1787 - val_acc: 0.9280 - val_fbeta_score_K: 0.6655\n",
      "Epoch 7/20\n",
      "949/949 [==============================] - 247s 260ms/step - loss: 0.1914 - acc: 0.9225 - fbeta_score_K: 0.6632 - val_loss: 0.1805 - val_acc: 0.9266 - val_fbeta_score_K: 0.6809\n",
      "Epoch 8/20\n",
      "949/949 [==============================] - 247s 260ms/step - loss: 0.1906 - acc: 0.9224 - fbeta_score_K: 0.6646 - val_loss: 0.1769 - val_acc: 0.9287 - val_fbeta_score_K: 0.6762\n",
      "Epoch 9/20\n",
      "949/949 [==============================] - 246s 259ms/step - loss: 0.1880 - acc: 0.9242 - fbeta_score_K: 0.6672 - val_loss: 0.1719 - val_acc: 0.9297 - val_fbeta_score_K: 0.6959\n",
      "Epoch 10/20\n",
      "949/949 [==============================] - 248s 261ms/step - loss: 0.1860 - acc: 0.9255 - fbeta_score_K: 0.6714 - val_loss: 0.1712 - val_acc: 0.9319 - val_fbeta_score_K: 0.6865\n",
      "Epoch 11/20\n",
      "949/949 [==============================] - 247s 261ms/step - loss: 0.1842 - acc: 0.9265 - fbeta_score_K: 0.6749 - val_loss: 0.1679 - val_acc: 0.9343 - val_fbeta_score_K: 0.6839\n",
      "Epoch 12/20\n",
      "949/949 [==============================] - 247s 260ms/step - loss: 0.1824 - acc: 0.9272 - fbeta_score_K: 0.6787 - val_loss: 0.1695 - val_acc: 0.9330 - val_fbeta_score_K: 0.6830\n",
      "Epoch 13/20\n",
      "949/949 [==============================] - 247s 260ms/step - loss: 0.1809 - acc: 0.9278 - fbeta_score_K: 0.6812 - val_loss: 0.1660 - val_acc: 0.9333 - val_fbeta_score_K: 0.6917\n",
      "Epoch 14/20\n",
      "949/949 [==============================] - 246s 259ms/step - loss: 0.1801 - acc: 0.9283 - fbeta_score_K: 0.6833 - val_loss: 0.1641 - val_acc: 0.9365 - val_fbeta_score_K: 0.7060\n",
      "Epoch 15/20\n",
      "949/949 [==============================] - 247s 260ms/step - loss: 0.1786 - acc: 0.9290 - fbeta_score_K: 0.6863 - val_loss: 0.1655 - val_acc: 0.9350 - val_fbeta_score_K: 0.7007\n",
      "Epoch 16/20\n",
      "949/949 [==============================] - 247s 260ms/step - loss: 0.1775 - acc: 0.9298 - fbeta_score_K: 0.6886 - val_loss: 0.1632 - val_acc: 0.9361 - val_fbeta_score_K: 0.7052\n",
      "Epoch 17/20\n",
      "949/949 [==============================] - 247s 260ms/step - loss: 0.1776 - acc: 0.9297 - fbeta_score_K: 0.6894 - val_loss: 0.1624 - val_acc: 0.9370 - val_fbeta_score_K: 0.6957\n",
      "Epoch 18/20\n",
      "949/949 [==============================] - 246s 259ms/step - loss: 0.1761 - acc: 0.9300 - fbeta_score_K: 0.6916 - val_loss: 0.1674 - val_acc: 0.9327 - val_fbeta_score_K: 0.7004\n",
      "Epoch 19/20\n",
      "949/949 [==============================] - 246s 259ms/step - loss: 0.1750 - acc: 0.9307 - fbeta_score_K: 0.6938 - val_loss: 0.1621 - val_acc: 0.9371 - val_fbeta_score_K: 0.7084\n",
      "Epoch 20/20\n",
      "949/949 [==============================] - 248s 261ms/step - loss: 0.1742 - acc: 0.9311 - fbeta_score_K: 0.6960 - val_loss: 0.1640 - val_acc: 0.9350 - val_fbeta_score_K: 0.7054\n",
      "159/159 [==============================] - 51s 319ms/step\n",
      "Validation F-Score:  0.8431045694399133\n",
      "Loading the test data...\n",
      "Found 61191 images.\n",
      "957/957 [==============================] - 414s 432ms/step\n",
      "Saving test predictions...\n",
      "Saved!\n"
     ]
    }
   ],
   "source": [
    "simple_cnn, model_history = run_model(data = training, \n",
    "                                      model = simple_cnn(input_shape=(128, 128, 3)), \n",
    "                                      num_epochs = 20, \n",
    "                                      labels = label_columns, \n",
    "                                      file_path = 'file_path', \n",
    "                                      batch_size = 32,\n",
    "                                      test_data = test_data)"
   ]
  },
  {
   "cell_type": "markdown",
   "metadata": {},
   "source": [
    "## Visualing Training Performance"
   ]
  },
  {
   "cell_type": "code",
   "execution_count": null,
   "metadata": {},
   "outputs": [],
   "source": [
    "def history_plotting(model_history_dict):\n",
    "    model_history_dict."
   ]
  },
  {
   "cell_type": "code",
   "execution_count": 20,
   "metadata": {},
   "outputs": [
    {
     "data": {
      "text/plain": [
       "6"
      ]
     },
     "execution_count": 20,
     "metadata": {},
     "output_type": "execute_result"
    }
   ],
   "source": [
    "len(model_history.history)"
   ]
  },
  {
   "cell_type": "code",
   "execution_count": 22,
   "metadata": {},
   "outputs": [
    {
     "data": {
      "image/png": "[encoded data removed]",
      "text/plain": [
       "<Figure size 576x360 with 1 Axes>"
      ]
     },
     "metadata": {},
     "output_type": "display_data"
    }
   ],
   "source": [
    "plt.figure(figsize = (8, 5))\n",
    "plt.title(\"Loss per Epoch \\nSimple CNN 32-64-128-17\", fontsize = 15)\n",
    "\n",
    "plt.xlabel(\"Epochs\")\n",
    "plt.ylabel(\"Loss\")\n",
    "\n",
    "plt.plot(model_history.history['loss'], \n",
    "         label = \"Train Loss\",\n",
    "         linewidth = 3)\n",
    "plt.plot(model_history.history['val_loss'], \n",
    "         label = \"Validation Loss\", \n",
    "         linestyle = \"--\", \n",
    "         linewidth = 3)\n",
    "\n",
    "plt.legend();"
   ]
  },
  {
   "cell_type": "code",
   "execution_count": 23,
   "metadata": {},
   "outputs": [
    {
     "data": {
      "image/png": "[encoded data removed]",
      "text/plain": [
       "<Figure size 576x360 with 1 Axes>"
      ]
     },
     "metadata": {},
     "output_type": "display_data"
    }
   ],
   "source": [
    "plt.figure(figsize = (8, 5))\n",
    "plt.title(\"Epoch Accuracy \\nSimple CNN 128-32-64\", fontsize = 15)\n",
    "\n",
    "plt.plot(model_history.history['acc'], \n",
    "         label = \"Train Accuracy\",\n",
    "         linewidth = 3)\n",
    "plt.plot(model_history.history[\"val_acc\"], \n",
    "         label = \"Validation Accuracy\", \n",
    "         linewidth = 3)\n",
    "\n",
    "plt.xlabel(\"Epochs\")\n",
    "plt.ylabel(\"Accuracy\")\n",
    "\n",
    "plt.legend();"
   ]
  },
  {
   "cell_type": "code",
   "execution_count": 27,
   "metadata": {},
   "outputs": [
    {
     "data": {
      "image/png": "[encoded data removed]",
      "text/plain": [
       "<Figure size 576x360 with 1 Axes>"
      ]
     },
     "metadata": {},
     "output_type": "display_data"
    }
   ],
   "source": [
    "plt.figure(figsize = (8, 5))\n",
    "plt.title(\"Epoch F-Beta Score \\nSimple CNN 128-32-64\", fontsize = 15)\n",
    "\n",
    "plt.plot(model_history.history['fbeta_score_K'], \n",
    "         label = \"Train F-Beta\",\n",
    "         linewidth = 3)\n",
    "plt.plot(model_history.history[\"val_fbeta_score_K\"], \n",
    "         label = \"Validation F-Beta\", \n",
    "         linewidth = 3)\n",
    "\n",
    "plt.xlabel(\"Epochs\")\n",
    "plt.ylabel(\"F-Beta Score\")\n",
    "\n",
    "plt.legend();"
   ]
  },
  {
   "cell_type": "markdown",
   "metadata": {},
   "source": [
    "## Gridsearching Thresholds"
   ]
  },
  {
   "cell_type": "code",
   "execution_count": 34,
   "metadata": {},
   "outputs": [
    {
     "name": "stdout",
     "output_type": "stream",
     "text": [
      "10120 validation predictions.\n",
      "10120 true validation labels .\n"
     ]
    }
   ],
   "source": [
    "# load validation predictions\n",
    "val_pred = \\\n",
    "        np.load(\"./run_val_preds/<keras.engine.sequential.Sequential object at 0x7f6c95cb4080>.validation_pred.npy\")\n",
    "print(\"{} validation predictions.\".format(val_pred.shape[0]))\n",
    "\n",
    "#load true validation labels\n",
    "y_val = np.load(\"./run_val_true/<keras.engine.sequential.Sequential object at 0x7f6c95cb4080>.y_val.npy\")\n",
    "print(\"{} true validation labels .\".format(val_pred.shape[0]))\n",
    "\n"
   ]
  },
  {
   "cell_type": "markdown",
   "metadata": {},
   "source": [
    "**Intital thresholds set at 0.2. These gave a test F-Beta of 0.83338.**"
   ]
  },
  {
   "cell_type": "code",
   "execution_count": 57,
   "metadata": {},
   "outputs": [],
   "source": [
    "# gridsearch thresholds\n",
    "def optimise_f2_thresholds(y, p, verbose=True, resolution=100):\n",
    "    def mf(x):\n",
    "        p2 = np.zeros_like(p)\n",
    "        for i in range(17):\n",
    "            p2[:, i] = (p[:, i] > x[i]).astype(np.int)\n",
    "            score = fbeta_score(y, p2, beta=2, average='samples')\n",
    "        return score\n",
    "\n",
    "    x = [0.2]*17\n",
    "    for i in range(17):\n",
    "        best_i2 = 0\n",
    "        best_score = 0\n",
    "        for i2 in range(resolution):\n",
    "            i2 /= resolution\n",
    "            x[i] = i2\n",
    "            score = mf(x)\n",
    "            if score > best_score:\n",
    "                best_i2 = i2\n",
    "                best_score = score\n",
    "        x[i] = best_i2\n",
    "        if verbose:\n",
    "              print(i, best_i2, best_score)\n",
    "\n",
    "        return x"
   ]
  },
  {
   "cell_type": "code",
   "execution_count": 58,
   "metadata": {},
   "outputs": [
    {
     "name": "stderr",
     "output_type": "stream",
     "text": [
      "/home/ubuntu/anaconda3/envs/tensorflow_p36/lib/python3.6/site-packages/sklearn/metrics/classification.py:1135: UndefinedMetricWarning: F-score is ill-defined and being set to 0.0 in samples with no predicted labels.\n",
      "  'precision', 'predicted', average, warn_for)\n"
     ]
    },
    {
     "name": "stdout",
     "output_type": "stream",
     "text": [
      "0 0.16 0.8431662324462348\n"
     ]
    }
   ],
   "source": [
    "best_thresholds = optimise_f2_thresholds(y_val, val_pred)"
   ]
  },
  {
   "cell_type": "markdown",
   "metadata": {},
   "source": [
    "**These thresholds improved my test F-Beta to 0.83406.**"
   ]
  },
  {
   "cell_type": "code",
   "execution_count": 63,
   "metadata": {},
   "outputs": [
    {
     "name": "stdout",
     "output_type": "stream",
     "text": [
      "[0.16, 0.16, 0.16, 0.16, 0.16, 0.16, 0.16, 0.16, 0.16, 0.16, 0.16, 0.16, 0.16, 0.16, 0.16, 0.16, 0.16]\n"
     ]
    }
   ],
   "source": [
    "best_thresholds = [0.16] * 17\n",
    "print(best_thresholds)"
   ]
  },
  {
   "cell_type": "markdown",
   "metadata": {},
   "source": [
    "These thresholds were found independently by a Kaggler. \n",
    "I figured I would see how they improved my F-beta score.\n",
    "These actually gave me the highest score: 0.83584\n"
   ]
  },
  {
   "cell_type": "code",
   "execution_count": 61,
   "metadata": {},
   "outputs": [],
   "source": [
    "threshy = [0.1925, 0.2625, 0.245, 0.2375, 0.205, 0.2175, 0.21, 0.265, 0.085, \n",
    "           0.12, 0.1625, 0.0875, 0.2225, 0.1375, 0.19, 0.14, 0.0475]"
   ]
  },
  {
   "cell_type": "markdown",
   "metadata": {},
   "source": [
    "# Predict on test"
   ]
  },
  {
   "cell_type": "code",
   "execution_count": 32,
   "metadata": {},
   "outputs": [
    {
     "data": {
      "text/plain": [
       "(61191, 17)"
      ]
     },
     "execution_count": 32,
     "metadata": {},
     "output_type": "execute_result"
    }
   ],
   "source": [
    "# load in the test data\n",
    "test_preds = \\\n",
    "    np.load(\"./test_raw_preds/<keras.engine.sequential.Sequential object at 0x7f6c95cb4080>_pre_threshold.npy\")\n",
    "\n",
    "test_preds.shape\n"
   ]
  },
  {
   "cell_type": "code",
   "execution_count": 55,
   "metadata": {},
   "outputs": [],
   "source": [
    "# function to convert raw prediction to tags and create submission file\n",
    "def submit_predictions(preds, labels, thresholds, file_path):\n",
    "    tags = predictions_to_tags(preds, labels, threshold_list=thresholds)\n",
    "    submission = test_data[['image_name']]\n",
    "    submission['tags'] = tags\n",
    "    submission.to_csv(file_path, index = False)"
   ]
  },
  {
   "cell_type": "code",
   "execution_count": 56,
   "metadata": {},
   "outputs": [],
   "source": [
    "# submit predictions!\n",
    "submit_predictions(test_preds, label_columns, \n",
    "                   thresholds = [0.2 for i in range(17)],\n",
    "                   file_path = \"./kaggle_submit_preds/pre_thresh_search.csv\")"
   ]
  },
  {
   "cell_type": "code",
   "execution_count": 62,
   "metadata": {},
   "outputs": [],
   "source": [
    "submit_predictions(test_preds, label_columns, \n",
    "                   thresholds = threshy,\n",
    "                   file_path = \"./kaggle_submit_preds/cheat_thresh_search.csv\")"
   ]
  },
  {
   "cell_type": "code",
   "execution_count": 83,
   "metadata": {},
   "outputs": [],
   "source": [
    "submit_predictions(test_preds, label_columns, \n",
    "                   thresholds = best_thresholds,\n",
    "                   file_path = \"./kaggle_submit_preds/best_thresholds.csv\")"
   ]
  },
  {
   "cell_type": "markdown",
   "metadata": {},
   "source": [
    "### Loading in the Model"
   ]
  },
  {
   "cell_type": "code",
   "execution_count": 77,
   "metadata": {},
   "outputs": [
    {
     "name": "stdout",
     "output_type": "stream",
     "text": [
      "Split train:  30359\n",
      "Found 30359 images.\n",
      "Split valid:  10120\n",
      "Found 10120 images.\n",
      "Epoch 1/20\n",
      "949/949 [==============================] - 307s 324ms/step - loss: 0.1755 - acc: 0.9308 - fbeta_score_K: 0.6948 - val_loss: 0.1601 - val_acc: 0.9380 - val_fbeta_score_K: 0.7098\n",
      "Epoch 2/20\n",
      "949/949 [==============================] - 245s 259ms/step - loss: 0.1751 - acc: 0.9306 - fbeta_score_K: 0.6943 - val_loss: 0.1607 - val_acc: 0.9370 - val_fbeta_score_K: 0.6993\n",
      "Epoch 3/20\n",
      "949/949 [==============================] - 242s 255ms/step - loss: 0.1738 - acc: 0.9314 - fbeta_score_K: 0.6963 - val_loss: 0.1586 - val_acc: 0.9385 - val_fbeta_score_K: 0.7168\n",
      "Epoch 4/20\n",
      "949/949 [==============================] - 245s 258ms/step - loss: 0.1737 - acc: 0.9315 - fbeta_score_K: 0.6971 - val_loss: 0.1627 - val_acc: 0.9367 - val_fbeta_score_K: 0.7014\n",
      "Epoch 5/20\n",
      "949/949 [==============================] - 241s 253ms/step - loss: 0.1733 - acc: 0.9315 - fbeta_score_K: 0.6977 - val_loss: 0.1594 - val_acc: 0.9375 - val_fbeta_score_K: 0.7236\n",
      "159/159 [==============================] - 51s 319ms/step\n",
      "Validation F-Score:  0.8463586141067426\n",
      "Loading the test data...\n",
      "Found 61191 images.\n",
      "957/957 [==============================] - 400s 418ms/step\n",
      "Saving test predictions...\n",
      "Saved!\n"
     ]
    }
   ],
   "source": [
    "final_model, final_run_history = run_model(\n",
    "        \n",
    "        data = training, \n",
    "        model = simple_cnn(input_shape=(128, 128, 3),\n",
    "            weight_path = \"./saved_val_models/<keras.engine.sequential.Sequential object at 0x7f6c95cb4080>.hdf5\"), \n",
    "        num_epochs = 20, \n",
    "        labels = label_columns, \n",
    "        file_path = 'file_path', \n",
    "        batch_size = 32,\n",
    "        test_data = test_data\n",
    ")"
   ]
  },
  {
   "cell_type": "markdown",
   "metadata": {},
   "source": [
    "## Visualizing Re-Initiated Model"
   ]
  },
  {
   "cell_type": "code",
   "execution_count": 78,
   "metadata": {},
   "outputs": [
    {
     "data": {
      "image/png": "[encoded data removed]",
      "text/plain": [
       "<Figure size 576x360 with 1 Axes>"
      ]
     },
     "metadata": {},
     "output_type": "display_data"
    }
   ],
   "source": [
    "plt.figure(figsize = (8, 5))\n",
    "plt.title(\"Loss per Epoch \\nSimple CNN 32-64-128-17\", fontsize = 15)\n",
    "\n",
    "plt.xlabel(\"Epochs\")\n",
    "plt.ylabel(\"Loss\")\n",
    "\n",
    "plt.plot(final_run_history.history['loss'], \n",
    "         label = \"Train Loss\",\n",
    "         linewidth = 3)\n",
    "plt.plot(final_run_history.history['val_loss'], \n",
    "         label = \"Validation Loss\", \n",
    "         linestyle = \"--\", \n",
    "         linewidth = 3)\n",
    "\n",
    "plt.legend();"
   ]
  },
  {
   "cell_type": "code",
   "execution_count": 79,
   "metadata": {},
   "outputs": [
    {
     "data": {
      "image/png": "[encoded data removed]",
      "text/plain": [
       "<Figure size 576x360 with 1 Axes>"
      ]
     },
     "metadata": {},
     "output_type": "display_data"
    }
   ],
   "source": [
    "plt.figure(figsize = (8, 5))\n",
    "plt.title(\"Epoch Accuracy \\nSimple CNN 128-32-64\", fontsize = 15)\n",
    "\n",
    "plt.plot(final_run_history.history['acc'], \n",
    "         label = \"Train Accuracy\",\n",
    "         linewidth = 3)\n",
    "plt.plot(final_run_history.history[\"val_acc\"], \n",
    "         label = \"Validation Accuracy\", \n",
    "         linewidth = 3)\n",
    "\n",
    "plt.xlabel(\"Epochs\")\n",
    "plt.ylabel(\"Accuracy\")\n",
    "\n",
    "plt.legend();"
   ]
  },
  {
   "cell_type": "code",
   "execution_count": 80,
   "metadata": {},
   "outputs": [
    {
     "data": {
      "image/png": "[encoded data removed]",
      "text/plain": [
       "<Figure size 576x360 with 1 Axes>"
      ]
     },
     "metadata": {},
     "output_type": "display_data"
    }
   ],
   "source": [
    "plt.figure(figsize = (8, 5))\n",
    "plt.title(\"Epoch F-Beta Score \\nSimple CNN 128-32-64\", fontsize = 15)\n",
    "\n",
    "plt.plot(final_run_history.history['fbeta_score_K'], \n",
    "         label = \"Train F-Beta\",\n",
    "         linewidth = 3)\n",
    "plt.plot(final_run_history.history[\"val_fbeta_score_K\"], \n",
    "         label = \"Validation F-Beta\", \n",
    "         linewidth = 3)\n",
    "\n",
    "plt.xlabel(\"Epochs\")\n",
    "plt.ylabel(\"F-Beta Score\")\n",
    "\n",
    "plt.legend();"
   ]
  },
  {
   "cell_type": "markdown",
   "metadata": {},
   "source": [
    "## Final Predictions\n",
    "\n",
    "**F-Beta Score: 0.83406**"
   ]
  },
  {
   "cell_type": "code",
   "execution_count": 81,
   "metadata": {},
   "outputs": [],
   "source": [
    "final_pred = np.load(\"./test_raw_preds/<keras.engine.sequential.Sequential object at 0x7f6c6876d400>_pre_threshold.npy\")"
   ]
  },
  {
   "cell_type": "code",
   "execution_count": 84,
   "metadata": {},
   "outputs": [],
   "source": [
    "submit_predictions(test_preds, label_columns, \n",
    "                   thresholds = best_thresholds,\n",
    "                   file_path = \"./kaggle_submit_preds/final.csv\")"
   ]
  }
 ],
 "metadata": {
  "kernelspec": {
   "display_name": "Python 3",
   "language": "python",
   "name": "python3"
  },
  "language_info": {
   "codemirror_mode": {
    "name": "ipython",
    "version": 3
   },
   "file_extension": ".py",
   "mimetype": "text/x-python",
   "name": "python",
   "nbconvert_exporter": "python",
   "pygments_lexer": "ipython3",
   "version": "3.6.7"
  }
 },
 "nbformat": 4,
 "nbformat_minor": 2
}

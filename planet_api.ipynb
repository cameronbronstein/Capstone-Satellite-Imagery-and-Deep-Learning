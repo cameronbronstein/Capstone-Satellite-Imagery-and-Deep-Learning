{
 "cells": [
  {
   "cell_type": "markdown",
   "metadata": {},
   "source": [
    "First Imports"
   ]
  },
  {
   "cell_type": "code",
   "execution_count": 1,
   "metadata": {},
   "outputs": [],
   "source": [
    "import os\n",
    "import json\n",
    "import requests"
   ]
  },
  {
   "cell_type": "markdown",
   "metadata": {},
   "source": [
    "API Key and URL"
   ]
  },
  {
   "cell_type": "code",
   "execution_count": 34,
   "metadata": {},
   "outputs": [],
   "source": [
    "os.environ['PL_API_KEY'] = '5dc3169d9ccd4f2f9a5d6617db785661'\n",
    "\n",
    "PLANET_API_KEY = os.getenv('PL_API_KEY')"
   ]
  },
  {
   "cell_type": "code",
   "execution_count": 35,
   "metadata": {},
   "outputs": [],
   "source": [
    "# Helper function to printformatted JSON using the json module\n",
    "def printer(data):\n",
    "    print(json.dumps(data, indent=2))"
   ]
  },
  {
   "cell_type": "markdown",
   "metadata": {},
   "source": [
    "Requests"
   ]
  },
  {
   "cell_type": "code",
   "execution_count": 36,
   "metadata": {},
   "outputs": [],
   "source": [
    "URL = 'https://api.planet.com/data/v1'\n",
    "\n",
    "session = requests.Session()\n",
    "\n",
    "res = session.get(URL, auth = (PLANET_API_KEY, '') )"
   ]
  },
  {
   "cell_type": "code",
   "execution_count": 37,
   "metadata": {},
   "outputs": [
    {
     "data": {
      "text/plain": [
       "200"
      ]
     },
     "execution_count": 37,
     "metadata": {},
     "output_type": "execute_result"
    }
   ],
   "source": [
    "res.status_code"
   ]
  },
  {
   "cell_type": "code",
   "execution_count": 38,
   "metadata": {},
   "outputs": [
    {
     "data": {
      "text/plain": [
       "'{\"_links\": {\"_self\": \"https://api.planet.com/data/v1/\", \"asset-types\": \"https://api.planet.com/data/v1/asset-types/\", \"item-types\": \"https://api.planet.com/data/v1/item-types/\", \"spec\": \"https://api.planet.com/data/v1/spec\"}}'"
      ]
     },
     "execution_count": 38,
     "metadata": {},
     "output_type": "execute_result"
    }
   ],
   "source": [
    "res.text"
   ]
  },
  {
   "cell_type": "code",
   "execution_count": 39,
   "metadata": {},
   "outputs": [
    {
     "name": "stdout",
     "output_type": "stream",
     "text": [
      "{\n",
      "  \"_links\": {\n",
      "    \"_self\": \"https://api.planet.com/data/v1/\",\n",
      "    \"asset-types\": \"https://api.planet.com/data/v1/asset-types/\",\n",
      "    \"item-types\": \"https://api.planet.com/data/v1/item-types/\",\n",
      "    \"spec\": \"https://api.planet.com/data/v1/spec\"\n",
      "  }\n",
      "}\n"
     ]
    }
   ],
   "source": [
    "printer(res.json())"
   ]
  },
  {
   "cell_type": "code",
   "execution_count": 8,
   "metadata": {},
   "outputs": [
    {
     "name": "stdout",
     "output_type": "stream",
     "text": [
      "https://api.planet.com/data/v1/item-types/\n"
     ]
    }
   ],
   "source": [
    "print(res.json()[\"_links\"][\"item-types\"])"
   ]
  },
  {
   "cell_type": "markdown",
   "metadata": {},
   "source": [
    "Statistics endpoint"
   ]
  },
  {
   "cell_type": "code",
   "execution_count": 9,
   "metadata": {},
   "outputs": [
    {
     "name": "stdout",
     "output_type": "stream",
     "text": [
      "https://api.planet.com/data/v1/stats\n"
     ]
    }
   ],
   "source": [
    "stats_url = \"{}/stats\".format(URL)\n",
    "print(stats_url)"
   ]
  },
  {
   "cell_type": "markdown",
   "metadata": {},
   "source": [
    "**Filter Criteria:**\n",
    "- Type (type) - The type of filter being used\n",
    "- Configuration (config) - The configuration for this filter\n",
    "- Field Name (field_name) - The field on which to filter"
   ]
  },
  {
   "cell_type": "code",
   "execution_count": 10,
   "metadata": {},
   "outputs": [],
   "source": [
    "#Specify the sensors/satellites or \"item types\" to include in our results\n",
    "item_types = [\"PSScene3Band\", \"REOrthoTile\"]"
   ]
  },
  {
   "cell_type": "code",
   "execution_count": 11,
   "metadata": {},
   "outputs": [],
   "source": [
    "# Create filter object for all imagery captured between 2013-01-01 and present.\n",
    "date_filter = {\n",
    "    \"type\": \"DateRangeFilter\", # Type of filter -> Date Range\n",
    "    \"field_name\": \"acquired\", # The field to filter on: \"acquired\" -> Date on which the \"image was taken\"\n",
    "    \"config\": {\n",
    "        \"gte\": \"2013-01-01T00:00:00.000Z\", # \"gte\" -> Greater than or equal to\n",
    "    }\n",
    "}\n"
   ]
  },
  {
   "cell_type": "code",
   "execution_count": 13,
   "metadata": {},
   "outputs": [
    {
     "name": "stdout",
     "output_type": "stream",
     "text": [
      "{\n",
      "  \"utc_offset\": \"+0h\",\n",
      "  \"interval\": \"year\",\n",
      "  \"buckets\": [\n",
      "    {\n",
      "      \"count\": 3095020,\n",
      "      \"start_time\": \"2013-01-01T00:00:00.000000Z\"\n",
      "    },\n",
      "    {\n",
      "      \"count\": 3596278,\n",
      "      \"start_time\": \"2014-01-01T00:00:00.000000Z\"\n",
      "    },\n",
      "    {\n",
      "      \"count\": 8491790,\n",
      "      \"start_time\": \"2015-01-01T00:00:00.000000Z\"\n",
      "    },\n",
      "    {\n",
      "      \"count\": 37679317,\n",
      "      \"start_time\": \"2016-01-01T00:00:00.000000Z\"\n",
      "    },\n",
      "    {\n",
      "      \"count\": 174726781,\n",
      "      \"start_time\": \"2017-01-01T00:00:00.000000Z\"\n",
      "    },\n",
      "    {\n",
      "      \"count\": 241833970,\n",
      "      \"start_time\": \"2018-01-01T00:00:00.000000Z\"\n",
      "    },\n",
      "    {\n",
      "      \"count\": 6172402,\n",
      "      \"start_time\": \"2019-01-01T00:00:00.000000Z\"\n",
      "    }\n",
      "  ]\n",
      "}\n"
     ]
    }
   ],
   "source": [
    "# Construct the request.\n",
    "request = {\n",
    "    \"item_types\" : item_types,\n",
    "    \"interval\" : \"year\",\n",
    "    \"filter\" : date_filter\n",
    "}\n",
    "\n",
    "# Send the POST request to the API stats endpoint\n",
    "res = session.post(stats_url, json=request)\n",
    "\n",
    "# Print response\n",
    "printer(res.json())"
   ]
  },
  {
   "cell_type": "markdown",
   "metadata": {},
   "source": [
    "Practice Exercise"
   ]
  },
  {
   "cell_type": "code",
   "execution_count": 15,
   "metadata": {},
   "outputs": [
    {
     "name": "stdout",
     "output_type": "stream",
     "text": [
      "{\n",
      "  \"utc_offset\": \"+0h\",\n",
      "  \"interval\": \"year\",\n",
      "  \"buckets\": [\n",
      "    {\n",
      "      \"count\": 3095020,\n",
      "      \"start_time\": \"2013-01-01T00:00:00.000000Z\"\n",
      "    },\n",
      "    {\n",
      "      \"count\": 3596278,\n",
      "      \"start_time\": \"2014-01-01T00:00:00.000000Z\"\n",
      "    },\n",
      "    {\n",
      "      \"count\": 8491790,\n",
      "      \"start_time\": \"2015-01-01T00:00:00.000000Z\"\n",
      "    },\n",
      "    {\n",
      "      \"count\": 37679317,\n",
      "      \"start_time\": \"2016-01-01T00:00:00.000000Z\"\n",
      "    },\n",
      "    {\n",
      "      \"count\": 174726781,\n",
      "      \"start_time\": \"2017-01-01T00:00:00.000000Z\"\n",
      "    },\n",
      "    {\n",
      "      \"count\": 241833970,\n",
      "      \"start_time\": \"2018-01-01T00:00:00.000000Z\"\n",
      "    },\n",
      "    {\n",
      "      \"count\": 6172407,\n",
      "      \"start_time\": \"2019-01-01T00:00:00.000000Z\"\n",
      "    }\n",
      "  ]\n",
      "}\n"
     ]
    }
   ],
   "source": [
    "# Fill in this filter to complete the exercise! \n",
    "date_filter2 = {\n",
    "    'type': 'DateRangeFilter',\n",
    "    'field_name': 'acquired',\n",
    "    'config': {\n",
    "        'lte': \"2013-01-01T00:00:00.000Z\"\n",
    "    }\n",
    "}\n",
    "\n",
    "request = {\n",
    "    \"item_types\" : item_types,\n",
    "    \"interval\" : \"year\",\n",
    "    \"filter\" : date_filter\n",
    "}\n",
    "\n",
    "res = session.post(stats_url, json=request)\n",
    "printer(res.json())"
   ]
  },
  {
   "cell_type": "markdown",
   "metadata": {},
   "source": [
    "**Field Filters**\n",
    "- DateRangeFilter\n",
    "- RangeFilter\n",
    "- StringInFilter\n",
    "- PermissionFilter\n",
    "- GeometryFilter\n",
    "\n",
    "**Logical Filters**\n",
    "- NotFilter\n",
    "- AndFilter\n",
    "- OrFilter\n",
    "\n"
   ]
  },
  {
   "cell_type": "markdown",
   "metadata": {},
   "source": [
    "**Camp Fire Dates:**\n",
    "\n",
    "Began: 2018-11-08\n",
    "\n",
    "Contained: 2018-11-25\n",
    "\n",
    "End buring: 2018-??-??"
   ]
  },
  {
   "cell_type": "code",
   "execution_count": 16,
   "metadata": {},
   "outputs": [],
   "source": [
    "camp_fire_filter = {  \n",
    "   \"type\":\"AndFilter\",\n",
    "   \"config\":[  \n",
    "      {  \n",
    "         \"type\":\"DateRangeFilter\",\n",
    "         \"field_name\":\"acquired\",\n",
    "         \"config\":{  \n",
    "            \"gte\":\"2018-11-01T00:00:00Z\",\n",
    "            \"lte\":\"2018-12-01T00:00:00Z\"\n",
    "         }\n",
    "      },\n",
    "      {  \n",
    "         \"type\":\"GeometryFilter\",\n",
    "         \"field_name\":\"geometry\",\n",
    "         \"config\":{\"type\":\"Polygon\",\n",
    "                   \"coordinates\": [\n",
    "          [\n",
    "            [\n",
    "              -122.11166381835936,\n",
    "              39.977120098439634\n",
    "            ],\n",
    "            [\n",
    "              -122.0745849609375,\n",
    "              39.48814483559126\n",
    "            ],\n",
    "            [\n",
    "              -121.09268188476562,\n",
    "              39.54641191968671\n",
    "            ],\n",
    "            [\n",
    "              -121.12976074218749,\n",
    "              39.985538414809746\n",
    "            ],\n",
    "            [\n",
    "              -122.11166381835936,\n",
    "              39.977120098439634\n",
    "            ]\n",
    "          ]\n",
    "        ]\n",
    "                  }\n",
    "      }\n",
    "    ]\n",
    "}"
   ]
  },
  {
   "cell_type": "code",
   "execution_count": 17,
   "metadata": {
    "scrolled": true
   },
   "outputs": [
    {
     "name": "stdout",
     "output_type": "stream",
     "text": [
      "{\n",
      "  \"utc_offset\": \"+0h\",\n",
      "  \"interval\": \"day\",\n",
      "  \"buckets\": [\n",
      "    {\n",
      "      \"count\": 46,\n",
      "      \"start_time\": \"2018-11-01T00:00:00.000000Z\"\n",
      "    },\n",
      "    {\n",
      "      \"count\": 44,\n",
      "      \"start_time\": \"2018-11-02T00:00:00.000000Z\"\n",
      "    },\n",
      "    {\n",
      "      \"count\": 51,\n",
      "      \"start_time\": \"2018-11-03T00:00:00.000000Z\"\n",
      "    },\n",
      "    {\n",
      "      \"count\": 64,\n",
      "      \"start_time\": \"2018-11-04T00:00:00.000000Z\"\n",
      "    },\n",
      "    {\n",
      "      \"count\": 55,\n",
      "      \"start_time\": \"2018-11-05T00:00:00.000000Z\"\n",
      "    },\n",
      "    {\n",
      "      \"count\": 63,\n",
      "      \"start_time\": \"2018-11-06T00:00:00.000000Z\"\n",
      "    },\n",
      "    {\n",
      "      \"count\": 41,\n",
      "      \"start_time\": \"2018-11-07T00:00:00.000000Z\"\n",
      "    },\n",
      "    {\n",
      "      \"count\": 38,\n",
      "      \"start_time\": \"2018-11-08T00:00:00.000000Z\"\n",
      "    },\n",
      "    {\n",
      "      \"count\": 49,\n",
      "      \"start_time\": \"2018-11-09T00:00:00.000000Z\"\n",
      "    },\n",
      "    {\n",
      "      \"count\": 50,\n",
      "      \"start_time\": \"2018-11-10T00:00:00.000000Z\"\n",
      "    },\n",
      "    {\n",
      "      \"count\": 60,\n",
      "      \"start_time\": \"2018-11-11T00:00:00.000000Z\"\n",
      "    },\n",
      "    {\n",
      "      \"count\": 34,\n",
      "      \"start_time\": \"2018-11-12T00:00:00.000000Z\"\n",
      "    },\n",
      "    {\n",
      "      \"count\": 62,\n",
      "      \"start_time\": \"2018-11-13T00:00:00.000000Z\"\n",
      "    },\n",
      "    {\n",
      "      \"count\": 75,\n",
      "      \"start_time\": \"2018-11-14T00:00:00.000000Z\"\n",
      "    },\n",
      "    {\n",
      "      \"count\": 53,\n",
      "      \"start_time\": \"2018-11-15T00:00:00.000000Z\"\n",
      "    },\n",
      "    {\n",
      "      \"count\": 42,\n",
      "      \"start_time\": \"2018-11-16T00:00:00.000000Z\"\n",
      "    },\n",
      "    {\n",
      "      \"count\": 65,\n",
      "      \"start_time\": \"2018-11-17T00:00:00.000000Z\"\n",
      "    },\n",
      "    {\n",
      "      \"count\": 65,\n",
      "      \"start_time\": \"2018-11-18T00:00:00.000000Z\"\n",
      "    },\n",
      "    {\n",
      "      \"count\": 51,\n",
      "      \"start_time\": \"2018-11-19T00:00:00.000000Z\"\n",
      "    },\n",
      "    {\n",
      "      \"count\": 28,\n",
      "      \"start_time\": \"2018-11-20T00:00:00.000000Z\"\n",
      "    },\n",
      "    {\n",
      "      \"count\": 40,\n",
      "      \"start_time\": \"2018-11-21T00:00:00.000000Z\"\n",
      "    },\n",
      "    {\n",
      "      \"count\": 82,\n",
      "      \"start_time\": \"2018-11-22T00:00:00.000000Z\"\n",
      "    },\n",
      "    {\n",
      "      \"count\": 45,\n",
      "      \"start_time\": \"2018-11-23T00:00:00.000000Z\"\n",
      "    },\n",
      "    {\n",
      "      \"count\": 36,\n",
      "      \"start_time\": \"2018-11-24T00:00:00.000000Z\"\n",
      "    },\n",
      "    {\n",
      "      \"count\": 46,\n",
      "      \"start_time\": \"2018-11-25T00:00:00.000000Z\"\n",
      "    },\n",
      "    {\n",
      "      \"count\": 47,\n",
      "      \"start_time\": \"2018-11-26T00:00:00.000000Z\"\n",
      "    },\n",
      "    {\n",
      "      \"count\": 35,\n",
      "      \"start_time\": \"2018-11-27T00:00:00.000000Z\"\n",
      "    },\n",
      "    {\n",
      "      \"count\": 36,\n",
      "      \"start_time\": \"2018-11-28T00:00:00.000000Z\"\n",
      "    },\n",
      "    {\n",
      "      \"count\": 42,\n",
      "      \"start_time\": \"2018-11-29T00:00:00.000000Z\"\n",
      "    },\n",
      "    {\n",
      "      \"count\": 63,\n",
      "      \"start_time\": \"2018-11-30T00:00:00.000000Z\"\n",
      "    }\n",
      "  ]\n",
      "}\n"
     ]
    }
   ],
   "source": [
    "request = {\n",
    "    \"item_types\" : item_types,\n",
    "    \"interval\" : \"day\",\n",
    "    \"filter\" : camp_fire_filter\n",
    "}\n",
    "\n",
    "res = session.post(stats_url, json=request)\n",
    "printer(res.json())"
   ]
  },
  {
   "cell_type": "code",
   "execution_count": 18,
   "metadata": {},
   "outputs": [],
   "source": [
    "date_filter = {\"type\":\"DateRangeFilter\", \n",
    "               \"field_name\":\"acquired\", \n",
    "               \"config\":{\"gte\":\"2018-11-01T00:00:00Z\",\n",
    "                         \"lte\":\"2018-12-01T00:00:00Z\"\n",
    "                        }\n",
    "              }\n",
    "\n",
    "geo_filter = {\"type\":\"GeometryFilter\", \n",
    "              \"field_name\":\"geometry\", \n",
    "              \"config\":{\"type\":\"Polygon\",\n",
    "                        \"coordinates\": [\n",
    "                            [\n",
    "                                        [\n",
    "                                          -122.11166381835936,\n",
    "                                          39.977120098439634\n",
    "                                        ],\n",
    "                                        [\n",
    "                                          -122.0745849609375,\n",
    "                                          39.48814483559126\n",
    "                                        ],\n",
    "                                        [\n",
    "                                          -121.09268188476562,\n",
    "                                          39.54641191968671\n",
    "                                        ],\n",
    "                                        [\n",
    "                                          -121.12976074218749,\n",
    "                                          39.985538414809746\n",
    "                                        ],\n",
    "                                        [\n",
    "                                          -122.11166381835936,\n",
    "                                          39.977120098439634\n",
    "                                        ]\n",
    "                                      ]\n",
    "                        ]\n",
    "                       }\n",
    "             }\n"
   ]
  },
  {
   "cell_type": "code",
   "execution_count": 20,
   "metadata": {},
   "outputs": [
    {
     "name": "stdout",
     "output_type": "stream",
     "text": [
      "{\n",
      "  \"utc_offset\": \"+0h\",\n",
      "  \"interval\": \"month\",\n",
      "  \"buckets\": [\n",
      "    {\n",
      "      \"count\": 1508,\n",
      "      \"start_time\": \"2018-11-01T00:00:00.000000Z\"\n",
      "    }\n",
      "  ]\n",
      "}\n"
     ]
    }
   ],
   "source": [
    "camp_filter = {\"type\":\"AndFilter\",\n",
    "               \"config\":[date_filter, geo_filter]}\n",
    "\n",
    "request = {\n",
    "    \"item_types\" : item_types,\n",
    "    \"interval\" : \"month\",\n",
    "    \"filter\" : camp_filter \n",
    "}\n",
    "\n",
    "res = session.post(stats_url, json=request)\n",
    "printer(res.json())"
   ]
  },
  {
   "cell_type": "code",
   "execution_count": 21,
   "metadata": {},
   "outputs": [],
   "source": [
    "ferguson_fire = {\n",
    "    \"type\": \"Polygon\",\n",
    "    \"coordinates\": [\n",
    "        [\n",
    "            [\n",
    "              -120.39916992187499,\n",
    "              37.58158917213053\n",
    "            ],\n",
    "            [\n",
    "              -119.49554443359376,\n",
    "              36.98280911070616\n",
    "            ],\n",
    "            [\n",
    "              -118.67156982421875,\n",
    "              37.58376576718623\n",
    "            ],\n",
    "            [\n",
    "              -119.4873046875,\n",
    "              38.20581359813473\n",
    "            ],\n",
    "            [\n",
    "              -120.39916992187499,\n",
    "              37.58158917213053\n",
    "            ]\n",
    "          ]\n",
    "    ]\n",
    "}"
   ]
  },
  {
   "cell_type": "markdown",
   "metadata": {},
   "source": [
    "### Woolesly Fire"
   ]
  },
  {
   "cell_type": "code",
   "execution_count": 24,
   "metadata": {},
   "outputs": [],
   "source": [
    "woolesly_fire = {\"type\": \"Polygon\", \n",
    "                 \"coordinates\": [\n",
    "                 [\n",
    "                  -119.036865234375,\n",
    "                  33.99575015925125\n",
    "                 ],\n",
    "                 [\n",
    "                  -118.54522705078126,\n",
    "                  33.99802726234877\n",
    "                 ],\n",
    "                 [\n",
    "                  -118.54248046874999,\n",
    "                  34.3955786154917\n",
    "                 ],\n",
    "                 [\n",
    "                  -119.04235839843749,\n",
    "                  34.40464357107094\n",
    "                 ],\n",
    "                 [\n",
    "                  -119.04373168945314,\n",
    "                  33.99916579100914\n",
    "                 ]\n",
    "            ] \n",
    "        }"
   ]
  },
  {
   "cell_type": "markdown",
   "metadata": {},
   "source": [
    "#### Quick Search"
   ]
  },
  {
   "cell_type": "code",
   "execution_count": 31,
   "metadata": {},
   "outputs": [],
   "source": [
    "# Setup the quick search endpoint url\n",
    "quick_url = \"{}/quick-search\".format(URL)"
   ]
  },
  {
   "cell_type": "code",
   "execution_count": 32,
   "metadata": {},
   "outputs": [],
   "source": [
    "# Setup Item Types\n",
    "item_types = [\"PSScene4Band\"]\n",
    "\n",
    "# Setup GeoJSON for only imagery that intersects with 40N, 90W\n",
    "geom = {\n",
    "    \"type\": \"Point\",\n",
    "    \"coordinates\": [\n",
    "        -90,\n",
    "         40\n",
    "    ]\n",
    "}\n",
    "\n",
    "# Setup a geometry filter\n",
    "geometry_filter = {\n",
    "    \"type\": \"GeometryFilter\",\n",
    "    \"field_name\": \"geometry\",\n",
    "    \"config\": \"POINT(40 -90)\"\n",
    "}\n",
    "\n",
    "# Setup the request\n",
    "request = {\n",
    "    \"item_types\" : item_types,\n",
    "    \"filter\" : ferguson_fire\n",
    "}"
   ]
  },
  {
   "cell_type": "code",
   "execution_count": 40,
   "metadata": {},
   "outputs": [
    {
     "name": "stdout",
     "output_type": "stream",
     "text": [
      "{\n",
      "  \"message\": \"Please enter your API key, or email and password.\",\n",
      "  \"errors\": []\n",
      "}\n"
     ]
    }
   ],
   "source": [
    "# Send the POST request to the API quick search endpoint\n",
    "res = session.post(quick_url, json=request)\n",
    "\n",
    "# Assign the response to a variable\n",
    "geojson = res.json()\n",
    "\n",
    "# Print the response\n",
    "printer(geojson)"
   ]
  },
  {
   "cell_type": "code",
   "execution_count": null,
   "metadata": {},
   "outputs": [],
   "source": []
  }
 ],
 "metadata": {
  "kernelspec": {
   "display_name": "Python 3",
   "language": "python",
   "name": "python3"
  },
  "language_info": {
   "codemirror_mode": {
    "name": "ipython",
    "version": 3
   },
   "file_extension": ".py",
   "mimetype": "text/x-python",
   "name": "python",
   "nbconvert_exporter": "python",
   "pygments_lexer": "ipython3",
   "version": "3.6.6"
  }
 },
 "nbformat": 4,
 "nbformat_minor": 2
}
